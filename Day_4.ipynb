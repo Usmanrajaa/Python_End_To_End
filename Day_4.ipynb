{
 "cells": [
  {
   "cell_type": "markdown",
   "id": "5240c671",
   "metadata": {},
   "source": [
    "# Kewords"
   ]
  },
  {
   "cell_type": "markdown",
   "id": "6df04c5f",
   "metadata": {},
   "source": [
    "### Python is case sensitive\n"
   ]
  },
  {
   "cell_type": "code",
   "execution_count": 1,
   "id": "c13f03e6",
   "metadata": {},
   "outputs": [
    {
     "name": "stdout",
     "output_type": "stream",
     "text": [
      "['False', 'None', 'True', 'and', 'as', 'assert', 'async', 'await', 'break', 'class', 'continue', 'def', 'del', 'elif', 'else', 'except', 'finally', 'for', 'from', 'global', 'if', 'import', 'in', 'is', 'lambda', 'nonlocal', 'not', 'or', 'pass', 'raise', 'return', 'try', 'while', 'with', 'yield']\n"
     ]
    }
   ],
   "source": [
    "# Python has 33 keywords.\n",
    "import keyword\n",
    "print(keyword.kwlist)"
   ]
  },
  {
   "cell_type": "code",
   "execution_count": null,
   "id": "297a4148",
   "metadata": {},
   "outputs": [],
   "source": []
  },
  {
   "cell_type": "markdown",
   "id": "750b122b",
   "metadata": {},
   "source": [
    "# Identifiers\n",
    "\n",
    "**Identifiers** are names given to variables, functions, classes, modules, etc.\n",
    "\n",
    "**Rules:**\n",
    "- Must start with a letter (a-z, A-Z) or underscore (`_`)\n",
    "- Can be followed by letters, digits (0-9), or underscores\n",
    "- Cannot be a Python keyword\n",
    "- Case sensitive (`Name` and `name` are different)\n",
    "- No spaces or special characters (like `@`, `$`, `%`)\n",
    "\n",
    "**Examples:**\n",
    "```python\n",
    "my_var = 10\n",
    "_name = \"Python\"\n",
    "Student1 = \"Alice\"\n",
    "# 2nd_var = 5      # Invalid: cannot start with a digit\n",
    "# my-var = 6       # Invalid: hyphens"
   ]
  },
  {
   "cell_type": "markdown",
   "id": "ae00e06d",
   "metadata": {},
   "source": [
    "# Identifier Naming Conventions\n",
    "\n",
    "There are different naming conventions for identifiers in Python and other languages:\n",
    "\n",
    "1. **snake_case**  \n",
    "   - Words are separated by underscores.  \n",
    "   - Common in Python for variables and functions.  \n",
    "   - Example: `student_name`, `total_marks`\n",
    "\n",
    "2. **camelCase**  \n",
    "   - The first word is lowercase, each subsequent word starts with a capital letter.  \n",
    "   - Common in JavaScript and sometimes in Python class attributes.  \n",
    "   - Example: `studentName`, `totalMarks`\n",
    "\n",
    "3. **PascalCase** (also called UpperCamelCase)  \n",
    "   - Each word starts with a capital letter, no underscores.  \n",
    "   - Common for class names in Python.  \n",
    "   - Example: `StudentName"
   ]
  },
  {
   "cell_type": "markdown",
   "id": "f798c10f",
   "metadata": {},
   "source": []
  }
 ],
 "metadata": {
  "kernelspec": {
   "display_name": "Python 3",
   "language": "python",
   "name": "python3"
  },
  "language_info": {
   "codemirror_mode": {
    "name": "ipython",
    "version": 3
   },
   "file_extension": ".py",
   "mimetype": "text/x-python",
   "name": "python",
   "nbconvert_exporter": "python",
   "pygments_lexer": "ipython3",
   "version": "3.12.10"
  }
 },
 "nbformat": 4,
 "nbformat_minor": 5
}
