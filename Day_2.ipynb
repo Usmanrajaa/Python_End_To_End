{
 "cells": [
  {
   "cell_type": "markdown",
   "id": "32e5edf1",
   "metadata": {},
   "source": [
    "# PYTHON DATA TYPES"
   ]
  },
  {
   "cell_type": "markdown",
   "id": "347d9055",
   "metadata": {},
   "source": [
    "# PYTHON DATA TYPES\n",
    "\n",
    "Python has a variety of built-in data types, grouped into several categories:\n",
    "\n",
    "---\n",
    "\n",
    "## 1. **Basic (Primitive) Types**\n",
    "- **`int`**: Integer numbers (e.g., `1`, `-42`, `2025`)\n",
    "- **`float`**: Floating-point numbers (decimals, e.g., `3.14`, `-0.001`)\n",
    "- **`complex`**: Complex numbers (real + imaginary, e.g., `2 + 3j`)\n",
    "- **`bool`**: Boolean values (`True`, `False`)\n",
    "- **`str`**: Strings (text, e.g., `\"hello\"`, `'Python'`)\n",
    "\n",
    "---\n",
    "\n",
    "## 2. **Sequence Types**\n",
    "- **`list`**: Ordered, mutable collection  \n",
    "  ```python\n",
    "  [1, 2, 3, \"apple\"]\n",
    "  ```\n",
    "- **`tuple`**: Ordered, immutable collection  \n",
    "  ```python\n",
    "  (1, 2, 3)\n",
    "  ```\n",
    "- **`range`**: Sequence of numbers  \n",
    "  ```python\n",
    "  range(0, 10)\n",
    "  ```\n",
    "\n",
    "---\n",
    "\n",
    "## 3. **Set Types**\n",
    "- **`set`**: Unordered collection of unique elements  \n",
    "  ```python\n",
    "  {1, 2, 3}\n",
    "  ```\n",
    "- **`frozenset`**: Immutable set  \n",
    "  ```python\n",
    "  frozenset([1, 2, 3])\n",
    "  ```\n",
    "\n",
    "---\n",
    "\n",
    "## 4. **Mapping Type**\n",
    "- **`dict`**: Key-value pairs  \n",
    "  ```python\n",
    "  {'name': 'Alice', 'age': 25}\n",
    "  ```\n",
    "\n",
    "---\n",
    "\n",
    "## 5. **None Type**\n",
    "- **`NoneType`**: Represents the absence of a value  \n",
    "  ```python\n",
    "  None\n",
    "  ```\n",
    "\n",
    "---\n",
    "\n",
    "## 6. **User-Defined Types**\n",
    "- **`class`**: Custom object blueprints  \n",
    "  ```python\n",
    "  class Car:\n",
    "      pass\n",
    "  ```\n",
    "\n",
    "---\n",
    "\n",
    "## 7. **Other Built-in Types**\n",
    "- **`bytes`**, **`bytearray`**, **`memoryview`**: For binary data\n",
    "\n",
    "---\n",
    "\n",
    "### **Type Checking**\n",
    "You can check the type of any variable using `type()`:\n",
    "```python\n",
    "x = 5\n",
    "print(type(x))  # <class 'int'>\n",
    "```\n",
    "\n",
    "---\n",
    "\n",
    "**Tip:** Python is dynamically typed, so you don’t need to declare variable types explicitly."
   ]
  },
  {
   "cell_type": "markdown",
   "id": "95acce4f",
   "metadata": {},
   "source": [
    "## INTEGER"
   ]
  },
  {
   "cell_type": "code",
   "execution_count": null,
   "id": "18367b12",
   "metadata": {},
   "outputs": [
    {
     "name": "stdout",
     "output_type": "stream",
     "text": [
      "4\n",
      "-100\n",
      "0\n",
      "123456789012345678901234567890\n",
      "<class 'int'>\n",
      "1e+308\n",
      "inf\n",
      "3\n",
      "123\n",
      "1\n",
      "0\n"
     ]
    }
   ],
   "source": [
    "# Integers\n",
    "print(4)           # Basic integer\n",
    "print(-100)        # Negative integer\n",
    "print(0)           # Zero\n",
    "\n",
    "# Large Integers (Python supports arbitrarily large ints)\n",
    "print(123456789012345678901234567890)\n",
    "\n",
    "# Type checking\n",
    "x = 42\n",
    "print(type(x)) \n",
    "\n",
    "# Float representation of large numbers\n",
    "print(1e308)       # 1 * 10^308 (float, very large)\n",
    "print(1e309)       # 'inf' (infinity, exceeds float limit)\n",
    "\n",
    "# Converting float to int (truncates decimal part)\n",
    "print(int(3.99))   # 3\n",
    "\n",
    "# Converting string to int\n",
    "print(int(\"123\"))  # 123\n",
    "\n",
    "# Boolean as int\n",
    "print(int(True))   # 1\n",
    "print(int(False))  #"
   ]
  },
  {
   "cell_type": "markdown",
   "id": "bff4d2ed",
   "metadata": {},
   "source": [
    "## Float"
   ]
  },
  {
   "cell_type": "code",
   "execution_count": 2,
   "id": "75ac00db",
   "metadata": {},
   "outputs": [
    {
     "name": "stdout",
     "output_type": "stream",
     "text": [
      "4.5\n",
      "1.8e+307\n",
      "inf\n",
      "inf\n"
     ]
    }
   ],
   "source": [
    "# Floating-Point Numbers\n",
    "print(4.5)        # Standard float\n",
    "\n",
    "# Large Floating-Point Numbers\n",
    "print(1.8e307)    # Large float (1.8 × 10^307)\n",
    "print(1.8e308)    # Larger float (1.8 × 10^308)\n",
    "print(1.9e308)    # Too large, results"
   ]
  },
  {
   "cell_type": "markdown",
   "id": "0b8833b6",
   "metadata": {},
   "source": [
    "## bool"
   ]
  },
  {
   "cell_type": "code",
   "execution_count": 3,
   "id": "85b68a8f",
   "metadata": {},
   "outputs": [
    {
     "name": "stdout",
     "output_type": "stream",
     "text": [
      "True\n"
     ]
    }
   ],
   "source": [
    "print(True)"
   ]
  },
  {
   "cell_type": "code",
   "execution_count": 4,
   "id": "6ec397e9",
   "metadata": {},
   "outputs": [
    {
     "name": "stdout",
     "output_type": "stream",
     "text": [
      "False\n"
     ]
    }
   ],
   "source": [
    "print(False)"
   ]
  },
  {
   "cell_type": "markdown",
   "id": "33f70e57",
   "metadata": {},
   "source": [
    "## Complex"
   ]
  },
  {
   "cell_type": "code",
   "execution_count": 6,
   "id": "9d5e1937",
   "metadata": {},
   "outputs": [
    {
     "name": "stdout",
     "output_type": "stream",
     "text": [
      "(4+5j)\n"
     ]
    }
   ],
   "source": [
    "print(4+5j)"
   ]
  },
  {
   "cell_type": "markdown",
   "id": "4126bad4",
   "metadata": {},
   "source": [
    "## Str"
   ]
  },
  {
   "cell_type": "code",
   "execution_count": 7,
   "id": "60fb1847",
   "metadata": {},
   "outputs": [
    {
     "name": "stdout",
     "output_type": "stream",
     "text": [
      "Kolkata\n",
      "Kolkata\n",
      "Kolkata\n",
      "Kolkata\n",
      "It's raining\n",
      "He said \"Hi\"\n",
      "Welcome to\n",
      "Kolkata, the City of Joy!\n",
      "Kolkata\n",
      "West Bengal\n",
      "Kolkata\tIndia\n"
     ]
    }
   ],
   "source": [
    "# Strings with Different Quotation Styles\n",
    "print('Kolkata')         # single quotes\n",
    "print(\"Kolkata\")         # double quotes\n",
    "print('''Kolkata''')     # triple single quotes (often for multi-line)\n",
    "print(\"\"\"Kolkata\"\"\")     # triple double quotes (often for multi-line)\n",
    "\n",
    "# Strings with quotes inside\n",
    "print(\"It's raining\")    # single quote inside double quotes\n",
    "print('He said \"Hi\"')    # double quotes inside single quotes\n",
    "\n",
    "# Multi-line string\n",
    "print(\"\"\"Welcome to\n",
    "Kolkata, the City of Joy!\"\"\")\n",
    "\n",
    "# String with escape characters\n",
    "print(\"Kolkata\\nWest Bengal\")  # newline\n",
    "print(\"Kolkata\\tIndia\")"
   ]
  },
  {
   "cell_type": "markdown",
   "id": "1105b332",
   "metadata": {},
   "source": [
    "## LIST"
   ]
  },
  {
   "cell_type": "code",
   "execution_count": 8,
   "id": "6c47fbbb",
   "metadata": {},
   "outputs": [
    {
     "name": "stdout",
     "output_type": "stream",
     "text": [
      "[1, 2, 3, 4, 5, 6]\n"
     ]
    }
   ],
   "source": [
    "print([1,2,3,4,5,6])"
   ]
  },
  {
   "cell_type": "markdown",
   "id": "f04c8952",
   "metadata": {},
   "source": [
    "## TUPLE"
   ]
  },
  {
   "cell_type": "code",
   "execution_count": 9,
   "id": "a7647e84",
   "metadata": {},
   "outputs": [
    {
     "name": "stdout",
     "output_type": "stream",
     "text": [
      "(1, 2, 3, 5, 9)\n"
     ]
    }
   ],
   "source": [
    "print((1,2,3,5,9))"
   ]
  },
  {
   "cell_type": "markdown",
   "id": "06665995",
   "metadata": {},
   "source": [
    "## SET"
   ]
  },
  {
   "cell_type": "code",
   "execution_count": 10,
   "id": "3238cfb5",
   "metadata": {},
   "outputs": [
    {
     "name": "stdout",
     "output_type": "stream",
     "text": [
      "{1, 2, 3, 5}\n"
     ]
    }
   ],
   "source": [
    "print({1,2,3,3,3,5})"
   ]
  },
  {
   "cell_type": "markdown",
   "id": "eba165a9",
   "metadata": {},
   "source": [
    "## DICT"
   ]
  },
  {
   "cell_type": "code",
   "execution_count": 11,
   "id": "0945424b",
   "metadata": {},
   "outputs": [
    {
     "name": "stdout",
     "output_type": "stream",
     "text": [
      "{'Name': 'Saurabh', 'Age': 22, 'Gender': 'Male'}\n"
     ]
    }
   ],
   "source": [
    "# Dictionary\n",
    "print({\"Name\": \"Saurabh\", \"Age\": 22, \"Gender\": \"Male\"})"
   ]
  },
  {
   "cell_type": "markdown",
   "id": "0bcfd2bb",
   "metadata": {},
   "source": [
    "## User-Defined Data Types (Overview)\n",
    "\n",
    "User-defined data types in Python are created using **classes**.  \n",
    "A class is like a blueprint for creating objects with custom properties and behaviors.\n",
    "\n",
    "**Example:**\n",
    "```python\n",
    "class Car:\n",
    "    def __init__(self, brand, year):\n",
    "        self.brand = brand\n",
    "        self.year = year\n",
    "\n",
    "my_car = Car(\"Toyota\", 2022)\n",
    "print(my_car.brand)  # Output: Toyota\n",
    "print(my_car.year)   # Output: 2022\n",
    "```\n",
    "\n",
    "- You define your own structure and logic.\n",
    "- Useful for modeling real-world entities (e.g., Car, Student, Book)."
   ]
  },
  {
   "cell_type": "code",
   "execution_count": null,
   "id": "53bf381f",
   "metadata": {},
   "outputs": [],
   "source": []
  }
 ],
 "metadata": {
  "kernelspec": {
   "display_name": "Python 3",
   "language": "python",
   "name": "python3"
  },
  "language_info": {
   "codemirror_mode": {
    "name": "ipython",
    "version": 3
   },
   "file_extension": ".py",
   "mimetype": "text/x-python",
   "name": "python",
   "nbconvert_exporter": "python",
   "pygments_lexer": "ipython3",
   "version": "3.12.10"
  }
 },
 "nbformat": 4,
 "nbformat_minor": 5
}
