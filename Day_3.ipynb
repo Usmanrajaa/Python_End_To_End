{
 "cells": [
  {
   "cell_type": "markdown",
   "id": "7955bd4a",
   "metadata": {},
   "source": [
    "## Static vs Dynamic Typing and Binding\n",
    "\n",
    "**Static Typing:**  \n",
    "- Variable types are declared and checked at compile-time.\n",
    "- Example languages: Java, C, C++.\n",
    "- Errors related to types are caught before running the program.\n",
    "\n",
    "**Dynamic Typing:**  \n",
    "- Variable types are determined at runtime.\n",
    "- Example languages: Python, JavaScript.\n",
    "- You don’t declare types; variables can change type as the program runs.\n",
    "\n",
    "**Static Binding (Early Binding):**  \n",
    "- Method or function calls are resolved at compile-time.\n",
    "- Faster execution, less flexible.\n",
    "- Example: Function overloading in C++.\n",
    "\n",
    "**Dynamic Binding (Late Binding):**  \n",
    "- Method or function calls are resolved at runtime.\n",
    "- More flexible, supports polymorphism.\n",
    "- Example: Method overriding in Python or Java.\n",
    "\n",
    "**Python** uses **dynamic typing**"
   ]
  },
  {
   "cell_type": "markdown",
   "id": "cf99c237",
   "metadata": {},
   "source": []
  },
  {
   "cell_type": "code",
   "execution_count": 2,
   "id": "c3bb44c2",
   "metadata": {},
   "outputs": [],
   "source": [
    "name='abc'"
   ]
  },
  {
   "cell_type": "markdown",
   "id": "b042c7b5",
   "metadata": {},
   "source": []
  },
  {
   "cell_type": "code",
   "execution_count": 3,
   "id": "d2444135",
   "metadata": {},
   "outputs": [
    {
     "data": {
      "text/plain": [
       "'abc'"
      ]
     },
     "execution_count": 3,
     "metadata": {},
     "output_type": "execute_result"
    }
   ],
   "source": [
    "name"
   ]
  },
  {
   "cell_type": "markdown",
   "id": "88b5e17d",
   "metadata": {},
   "source": [
    "## Assignment: Giving a value to a variable.\n",
    "Multiple assignment: Assign values to several variables at once.\n",
    "Same value assignment: All variables point to the same value.\n",
    "Reassignment: You can change a variable’s value or type any time.\n",
    "Redeclaration: In Python, variables can be redeclared with a new value or type without error."
   ]
  },
  {
   "cell_type": "code",
   "execution_count": 4,
   "id": "532e8053",
   "metadata": {},
   "outputs": [
    {
     "name": "stdout",
     "output_type": "stream",
     "text": [
      "5\n",
      "6\n",
      "7\n"
     ]
    }
   ],
   "source": [
    "# Assigning values individually (semicolon allows multiple statements on one line)\n",
    "a = 5; b = 6; c = 7\n",
    "\n",
    "print(a)  # 5\n",
    "print(b)  # 6\n",
    "print(c)  # 7"
   ]
  },
  {
   "cell_type": "code",
   "execution_count": 5,
   "id": "2219854a",
   "metadata": {},
   "outputs": [
    {
     "name": "stdout",
     "output_type": "stream",
     "text": [
      "5\n",
      "6\n",
      "7\n"
     ]
    }
   ],
   "source": [
    "# Multiple assignment in one line (tuple unpacking)\n",
    "a, b, c = 5, 6, 7\n",
    "\n",
    "print(a)  # 5\n",
    "print(b)  # 6\n",
    "print(c)  # 7"
   ]
  },
  {
   "cell_type": "code",
   "execution_count": 6,
   "id": "1823cf64",
   "metadata": {},
   "outputs": [
    {
     "name": "stdout",
     "output_type": "stream",
     "text": [
      "6 6 6\n"
     ]
    }
   ],
   "source": [
    "# Assigning the same value to multiple variables\n",
    "a = b = c = 6\n",
    "\n",
    "print(a, b, c)  # 6 6 6"
   ]
  },
  {
   "cell_type": "code",
   "execution_count": 7,
   "id": "37fac83f",
   "metadata": {},
   "outputs": [
    {
     "name": "stdout",
     "output_type": "stream",
     "text": [
      "10\n"
     ]
    }
   ],
   "source": [
    "a = 10\n",
    "print(a)  # 10"
   ]
  },
  {
   "cell_type": "code",
   "execution_count": 8,
   "id": "65a2ea15",
   "metadata": {},
   "outputs": [
    {
     "name": "stdout",
     "output_type": "stream",
     "text": [
      "now a string\n"
     ]
    }
   ],
   "source": [
    "# Redeclaration: You can change the type and value anytime (Python is dynamic)\n",
    "a = \"now a string\"\n",
    "print(a)  # now a string"
   ]
  },
  {
   "cell_type": "code",
   "execution_count": 9,
   "id": "984e5760",
   "metadata": {},
   "outputs": [
    {
     "name": "stdout",
     "output_type": "stream",
     "text": [
      "1 2\n"
     ]
    }
   ],
   "source": [
    "# More examples\n",
    "x, y = 1, 2\n",
    "print(x, y)  # 1 2"
   ]
  },
  {
   "cell_type": "code",
   "execution_count": 10,
   "id": "5c8734a3",
   "metadata": {},
   "outputs": [
    {
     "name": "stdout",
     "output_type": "stream",
     "text": [
      "2 1\n"
     ]
    }
   ],
   "source": [
    "\n",
    "x, y = y, x  # Swapping values\n",
    "print(x, y)  # 2 1\n"
   ]
  },
  {
   "cell_type": "code",
   "execution_count": 11,
   "id": "d03d7e95",
   "metadata": {},
   "outputs": [
    {
     "name": "stdout",
     "output_type": "stream",
     "text": [
      "10 20 30\n"
     ]
    }
   ],
   "source": [
    "# Assigning from a list or tuple\n",
    "p, q, r = [10, 20, 30]\n",
    "print(p, q, r)  # 10 20 30"
   ]
  },
  {
   "cell_type": "code",
   "execution_count": 12,
   "id": "ce24658c",
   "metadata": {},
   "outputs": [
    {
     "name": "stdout",
     "output_type": "stream",
     "text": [
      "200\n"
     ]
    }
   ],
   "source": [
    "# Only the last assignment counts\n",
    "z = 100\n",
    "z = 200\n",
    "print(z)  # 200"
   ]
  },
  {
   "cell_type": "code",
   "execution_count": null,
   "id": "2e67304b",
   "metadata": {},
   "outputs": [],
   "source": []
  }
 ],
 "metadata": {
  "kernelspec": {
   "display_name": "Python 3",
   "language": "python",
   "name": "python3"
  },
  "language_info": {
   "codemirror_mode": {
    "name": "ipython",
    "version": 3
   },
   "file_extension": ".py",
   "mimetype": "text/x-python",
   "name": "python",
   "nbconvert_exporter": "python",
   "pygments_lexer": "ipython3",
   "version": "3.12.10"
  }
 },
 "nbformat": 4,
 "nbformat_minor": 5
}
