{
 "cells": [
  {
   "cell_type": "code",
   "execution_count": 1,
   "id": "5b449e7e",
   "metadata": {},
   "outputs": [
    {
     "name": "stdout",
     "output_type": "stream",
     "text": [
      "hello world\n"
     ]
    }
   ],
   "source": [
    "print(\"hello world\")"
   ]
  },
  {
   "cell_type": "code",
   "execution_count": null,
   "id": "7460524f",
   "metadata": {},
   "outputs": [
    {
     "name": "stdout",
     "output_type": "stream",
     "text": [
      "6\n",
      "6.5\n",
      "False\n",
      "delhi-mumbai-chennai\n",
      "delhi/mumbai/chennai\n",
      "delhi-12-True\n",
      "hello world\n"
     ]
    }
   ],
   "source": [
    "print(6)\n",
    "print(6.5)\n",
    "print(False)\n",
    "print(\"delhi\",\"mumbai\",\"chennai\",sep=\"-\")\n",
    "print(\"delhi\",\"mumbai\",\"chennai\",sep=\"/\")\n",
    "print(\"delhi\",12,True,sep=\"-\")\n",
    "print(\"hello\",end=\" \")\n",
    "print(\"world\")\n",
    "print "
   ]
  },
  {
   "cell_type": "code",
   "execution_count": 8,
   "id": "af731958",
   "metadata": {},
   "outputs": [
    {
     "name": "stdout",
     "output_type": "stream",
     "text": [
      "apple banana cherry\n",
      "Line1\n",
      "Line2\tTabbed\n",
      "Delhi 32\n",
      "The temperature in Delhi is 32°C\n"
     ]
    }
   ],
   "source": [
    "# Print with default separator and end\n",
    "print(\"apple\", \"banana\", \"cherry\")  # sep=' ', end='\\n' by default\n",
    "\n",
    "# Print with escape characters\n",
    "print(\"Line1\\nLine2\\tTabbed\")\n",
    "\n",
    "# Print variables\n",
    "city = \"Delhi\"\n",
    "temp = 32\n",
    "print(city, temp)\n",
    "\n",
    "# Print using f-string\n",
    "print(f\"The temperature in {city} is {temp}°C\")"
   ]
  },
  {
   "cell_type": "code",
   "execution_count": null,
   "id": "36470b88",
   "metadata": {},
   "outputs": [],
   "source": []
  }
 ],
 "metadata": {
  "kernelspec": {
   "display_name": "Python 3",
   "language": "python",
   "name": "python3"
  },
  "language_info": {
   "codemirror_mode": {
    "name": "ipython",
    "version": 3
   },
   "file_extension": ".py",
   "mimetype": "text/x-python",
   "name": "python",
   "nbconvert_exporter": "python",
   "pygments_lexer": "ipython3",
   "version": "3.12.10"
  }
 },
 "nbformat": 4,
 "nbformat_minor": 5
}
